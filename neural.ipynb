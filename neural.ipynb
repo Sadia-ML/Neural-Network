{
 "cells": [
  {
   "cell_type": "markdown",
   "metadata": {},
   "source": [
    "<blockquote>NEURAL NETWORK</blockquote>"
   ]
  },
  {
   "cell_type": "markdown",
   "metadata": {},
   "source": [
    "<h1>book example</h1>"
   ]
  },
  {
   "cell_type": "code",
   "execution_count": 1,
   "metadata": {},
   "outputs": [],
   "source": [
    "#input\n",
    "import math\n",
    "x1 = 1\n",
    "x2 = 0\n",
    "x3 = 1\n",
    "w14 = 0.2\n",
    "w15 = -0.3\n",
    "w24 = 0.4\n",
    "w25 = 0.1\n",
    "w34 = -0.5\n",
    "w35 = 0.2\n",
    "w46 = -0.3\n",
    "w56 = -0.2\n",
    "th4 = -0.4\n",
    "th5 = 0.2\n",
    "th6 = 0.1\n",
    "learn_rate = 0.9"
   ]
  },
  {
   "cell_type": "code",
   "execution_count": 3,
   "metadata": {},
   "outputs": [
    {
     "name": "stdout",
     "output_type": "stream",
     "text": [
      "-0.7\n"
     ]
    }
   ],
   "source": [
    "#Net input for node - 4\n",
    "four = (x1*w14) + (x2*w24) + (x3*w34) + th4\n",
    "print(four)\n"
   ]
  },
  {
   "cell_type": "code",
   "execution_count": 4,
   "metadata": {},
   "outputs": [
    {
     "name": "stdout",
     "output_type": "stream",
     "text": [
      "0.3318122278318339\n"
     ]
    }
   ],
   "source": [
    "#Output for node - 4\n",
    "Out_four = 1/(1 + (math.exp((-1)*four)))\n",
    "print(Out_four)\n",
    "\n"
   ]
  },
  {
   "cell_type": "code",
   "execution_count": 5,
   "metadata": {},
   "outputs": [
    {
     "name": "stdout",
     "output_type": "stream",
     "text": [
      "0.10000000000000003\n"
     ]
    }
   ],
   "source": [
    "#Net input for node - 5\n",
    "five = (x1*w15) + (x2*w25) + (x3*w35) + th5\n",
    "print(five)\n",
    "\n"
   ]
  },
  {
   "cell_type": "code",
   "execution_count": 6,
   "metadata": {},
   "outputs": [
    {
     "name": "stdout",
     "output_type": "stream",
     "text": [
      "0.52497918747894\n"
     ]
    }
   ],
   "source": [
    "#Output for node - 5\n",
    "Out_five = 1/(1 + (math.exp((-1)*five)))\n",
    "print(Out_five)\n",
    "\n"
   ]
  },
  {
   "cell_type": "code",
   "execution_count": 7,
   "metadata": {},
   "outputs": [
    {
     "name": "stdout",
     "output_type": "stream",
     "text": [
      "-0.10453950584533817\n"
     ]
    }
   ],
   "source": [
    "#Net input for node - 6\n",
    "six = (Out_four * w46) + (Out_five * w56) + th6\n",
    "print(six)\n",
    "\n"
   ]
  },
  {
   "cell_type": "code",
   "execution_count": 8,
   "metadata": {},
   "outputs": [
    {
     "name": "stdout",
     "output_type": "stream",
     "text": [
      "0.47388889882398544\n"
     ]
    }
   ],
   "source": [
    "#Output for node - 6\n",
    "Out_six = 1/(1 + (math.exp((-1)*six)))\n",
    "print(Out_six)\n",
    "\n"
   ]
  },
  {
   "cell_type": "code",
   "execution_count": 9,
   "metadata": {},
   "outputs": [
    {
     "name": "stdout",
     "output_type": "stream",
     "text": [
      "Six-Error ---  0.1311690782143445\n",
      "Five-Error ---  -0.0065420850641689935\n",
      "Four-Error ---  -0.008724561965433263\n"
     ]
    }
   ],
   "source": [
    "#Error at each Node\n",
    "new = 1\n",
    "err_six = Out_six * ((1 - Out_six) ** 2) * new\n",
    "print('Six-Error --- ', err_six)\n",
    "new = err_six\n",
    "err_five = Out_five * (1 - Out_five) * (w56) * new\n",
    "print('Five-Error --- ', err_five)\n",
    "err_four = Out_four * (1 - Out_four) * (w46) * new\n",
    "print('Four-Error --- ', err_four)\n"
   ]
  },
  {
   "cell_type": "code",
   "execution_count": 10,
   "metadata": {},
   "outputs": [
    {
     "name": "stdout",
     "output_type": "stream",
     "text": [
      "Updated w46 -  -0.26082884634154524\n",
      "Updated w56 -  -0.13802506750700472\n",
      "Updated w14 -  0.19214789423111006\n",
      "Updated w15 -  -0.30588787655775207\n",
      "Updated w24 -  0.4\n",
      "Updated w25 -  0.1\n",
      "Updated w34 -  -0.50785210576889\n",
      "Updated w35 -  0.19411212344224793\n"
     ]
    }
   ],
   "source": [
    "#weight updating\n",
    "n_w46 = w46 + learn_rate * err_six * Out_four\n",
    "print('Updated w46 - ', n_w46)\n",
    "\n",
    "n_w56 = w56 + learn_rate* err_six * Out_five\n",
    "print('Updated w56 - ', n_w56)\n",
    "\n",
    "n_w14 = w14 + learn_rate* err_four * x1\n",
    "print('Updated w14 - ', n_w14)\n",
    "\n",
    "n_w15 = w15 + learn_rate* err_five * x1\n",
    "print('Updated w15 - ', n_w15)\n",
    "\n",
    "n_w24 = w24 + learn_rate * err_four * x2\n",
    "print('Updated w24 - ', n_w24)\n",
    "\n",
    "n_w25 = w25 + learn_rate * err_five * x2\n",
    "print('Updated w25 - ', n_w25)\n",
    "\n",
    "n_w34 = w34 + learn_rate * err_four * x3\n",
    "print('Updated w34 - ', n_w34)\n",
    "\n",
    "n_w35 = w35 + learn_rate * err_five * x3\n",
    "print('Updated w35 - ', n_w35)\n",
    "\n"
   ]
  },
  {
   "cell_type": "code",
   "execution_count": 11,
   "metadata": {},
   "outputs": [
    {
     "name": "stdout",
     "output_type": "stream",
     "text": [
      "Updated Bias: th6 -  0.21805217039291008\n",
      "Updated Bias: th5 -  0.19411212344224793\n",
      "Updated Bias: th4 -  -0.40785210576888997\n"
     ]
    }
   ],
   "source": [
    "#Bias updating\n",
    "n_th6 = th6 + learn_rate * err_six\n",
    "print('Updated Bias: th6 - ', n_th6)\n",
    "\n",
    "n_th5 = th5 + learn_rate * err_five\n",
    "print('Updated Bias: th5 - ', n_th5)\n",
    "\n",
    "n_th4 = th4 + learn_rate * err_four\n",
    "print('Updated Bias: th4 - ', n_th4)\n"
   ]
  },
  {
   "cell_type": "code",
   "execution_count": null,
   "metadata": {},
   "outputs": [],
   "source": []
  },
  {
   "cell_type": "markdown",
   "metadata": {},
   "source": [
    "<h1>another example on neural network</h1>"
   ]
  },
  {
   "cell_type": "code",
   "execution_count": 10,
   "metadata": {},
   "outputs": [
    {
     "name": "stdout",
     "output_type": "stream",
     "text": [
      "Beginning Randomly Generated Weights: \n",
      "[[-0.16595599]\n",
      " [ 0.44064899]\n",
      " [-0.99977125]]\n",
      "Ending Weights After Training: \n",
      "[[10.08740896]\n",
      " [-0.20695366]\n",
      " [-4.83757835]]\n",
      "User Input One: 1\n",
      "User Input Two: 0\n",
      "User Input Three: 0\n",
      "Considering New Situation:  1 0 0\n",
      "New Output data: \n",
      "[0.9999584]\n"
     ]
    }
   ],
   "source": [
    "import numpy as np\n",
    "\n",
    "class NeuralNetwork():\n",
    "    \n",
    "    def __init__(self):\n",
    "        # seeding for random number generation\n",
    "        np.random.seed(1)\n",
    "        \n",
    "        #converting weights to a 3 by 1 matrix with values from -1 to 1 and mean of 0\n",
    "        self.synaptic_weights = 2 * np.random.random((3, 1)) - 1\n",
    "\n",
    "    def sigmoid(self, x):\n",
    "        #applying the sigmoid function\n",
    "        return 1 / (1 + np.exp(-x))\n",
    "\n",
    "    def sigmoid_derivative(self, x):\n",
    "        #computing derivative to the Sigmoid function\n",
    "        return x * (1 - x)\n",
    "\n",
    "    def train(self, training_inputs, training_outputs, training_iterations):\n",
    "        \n",
    "        #training the model to make accurate predictions while adjusting weights continually\n",
    "        for iteration in range(training_iterations):\n",
    "            #siphon the training data via  the neuron\n",
    "            output = self.think(training_inputs)\n",
    "\n",
    "            #computing error rate for back-propagation\n",
    "            error = training_outputs - output\n",
    "            \n",
    "            #performing weight adjustments\n",
    "            adjustments = np.dot(training_inputs.T, error * self.sigmoid_derivative(output))\n",
    "\n",
    "            self.synaptic_weights += adjustments\n",
    "\n",
    "    def think(self, inputs):\n",
    "        #passing the inputs via the neuron to get output   \n",
    "        #converting values to floats\n",
    "        \n",
    "        inputs = inputs.astype(float)\n",
    "        output = self.sigmoid(np.dot(inputs, self.synaptic_weights))\n",
    "        return output\n",
    "\n",
    "\n",
    "if __name__ == \"__main__\":\n",
    "\n",
    "    #initializing the neuron class\n",
    "    neural_network = NeuralNetwork()\n",
    "\n",
    "    print(\"Beginning Randomly Generated Weights: \")\n",
    "    print(neural_network.synaptic_weights)\n",
    "\n",
    "    #training data consisting of 4 examples--3 input values and 1 output\n",
    "    training_inputs = np.array([[0,0,1],\n",
    "                                [1,1,1],\n",
    "                                [1,0,1],\n",
    "                                [0,1,1]])\n",
    "\n",
    "    training_outputs = np.array([[0,1,1,0]]).T\n",
    "\n",
    "    #training taking place\n",
    "    neural_network.train(training_inputs, training_outputs, 15000)\n",
    "\n",
    "    print(\"Ending Weights After Training: \")\n",
    "    print(neural_network.synaptic_weights)\n",
    "\n",
    "    user_input_one = str(input(\"User Input One: \"))\n",
    "    user_input_two = str(input(\"User Input Two: \"))\n",
    "    user_input_three = str(input(\"User Input Three: \"))\n",
    "    \n",
    "    print(\"Considering New Situation: \", user_input_one, user_input_two, user_input_three)\n",
    "    print(\"New Output data: \")\n",
    "    print(neural_network.think(np.array([user_input_one, user_input_two, user_input_three])))\n",
    "   "
   ]
  },
  {
   "cell_type": "code",
   "execution_count": null,
   "metadata": {},
   "outputs": [],
   "source": []
  },
  {
   "cell_type": "code",
   "execution_count": null,
   "metadata": {},
   "outputs": [],
   "source": []
  },
  {
   "cell_type": "code",
   "execution_count": null,
   "metadata": {},
   "outputs": [],
   "source": []
  },
  {
   "cell_type": "code",
   "execution_count": null,
   "metadata": {},
   "outputs": [],
   "source": []
  },
  {
   "cell_type": "code",
   "execution_count": null,
   "metadata": {},
   "outputs": [],
   "source": []
  },
  {
   "cell_type": "code",
   "execution_count": null,
   "metadata": {},
   "outputs": [],
   "source": []
  },
  {
   "cell_type": "code",
   "execution_count": null,
   "metadata": {},
   "outputs": [],
   "source": []
  },
  {
   "cell_type": "code",
   "execution_count": null,
   "metadata": {},
   "outputs": [],
   "source": []
  },
  {
   "cell_type": "code",
   "execution_count": null,
   "metadata": {},
   "outputs": [],
   "source": []
  },
  {
   "cell_type": "code",
   "execution_count": null,
   "metadata": {},
   "outputs": [],
   "source": []
  },
  {
   "cell_type": "code",
   "execution_count": null,
   "metadata": {},
   "outputs": [],
   "source": []
  }
 ],
 "metadata": {
  "kernelspec": {
   "display_name": "Python 3",
   "language": "python",
   "name": "python3"
  },
  "language_info": {
   "codemirror_mode": {
    "name": "ipython",
    "version": 3
   },
   "file_extension": ".py",
   "mimetype": "text/x-python",
   "name": "python",
   "nbconvert_exporter": "python",
   "pygments_lexer": "ipython3",
   "version": "3.8.5"
  }
 },
 "nbformat": 4,
 "nbformat_minor": 4
}
